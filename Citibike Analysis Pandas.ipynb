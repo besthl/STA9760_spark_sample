{
 "cells": [
  {
   "cell_type": "code",
   "execution_count": 8,
   "metadata": {},
   "outputs": [
    {
     "name": "stdout",
     "output_type": "stream",
     "text": [
      "Requirement already satisfied: numpy in /opt/conda/lib/python3.7/site-packages (1.18.1)\n",
      "Requirement already satisfied: pandas in /opt/conda/lib/python3.7/site-packages (1.0.3)\n",
      "Requirement already satisfied: numpy>=1.13.3 in /opt/conda/lib/python3.7/site-packages (from pandas) (1.18.1)\n",
      "Requirement already satisfied: python-dateutil>=2.6.1 in /opt/conda/lib/python3.7/site-packages (from pandas) (2.8.1)\n",
      "Requirement already satisfied: pytz>=2017.2 in /opt/conda/lib/python3.7/site-packages (from pandas) (2019.3)\n",
      "Requirement already satisfied: six>=1.5 in /opt/conda/lib/python3.7/site-packages (from python-dateutil>=2.6.1->pandas) (1.14.0)\n",
      "Requirement already satisfied: matplotlib in /opt/conda/lib/python3.7/site-packages (3.2.1)\n",
      "Requirement already satisfied: numpy>=1.11 in /opt/conda/lib/python3.7/site-packages (from matplotlib) (1.18.1)\n",
      "Requirement already satisfied: cycler>=0.10 in /opt/conda/lib/python3.7/site-packages (from matplotlib) (0.10.0)\n",
      "Requirement already satisfied: pyparsing!=2.0.4,!=2.1.2,!=2.1.6,>=2.0.1 in /opt/conda/lib/python3.7/site-packages (from matplotlib) (2.4.7)\n",
      "Requirement already satisfied: kiwisolver>=1.0.1 in /opt/conda/lib/python3.7/site-packages (from matplotlib) (1.2.0)\n",
      "Requirement already satisfied: python-dateutil>=2.1 in /opt/conda/lib/python3.7/site-packages (from matplotlib) (2.8.1)\n",
      "Requirement already satisfied: six in /opt/conda/lib/python3.7/site-packages (from cycler>=0.10->matplotlib) (1.14.0)\n"
     ]
    }
   ],
   "source": [
    "import sys\n",
    "!{sys.executable} -m pip install numpy\n",
    "!{sys.executable} -m pip install pandas\n",
    "!{sys.executable} -m pip install matplotlib"
   ]
  },
  {
   "cell_type": "code",
   "execution_count": 11,
   "metadata": {},
   "outputs": [],
   "source": [
    "import pandas as pd \n",
    "import numpy\n",
    "import matplotlib.pyplot as plt \n",
    "\n",
    "%matplotlib inline\n"
   ]
  },
  {
   "cell_type": "code",
   "execution_count": 15,
   "metadata": {},
   "outputs": [],
   "source": [
    "df = pd.read_csv('./data/JC-201811-citibike-tripdata.csv', low_memory= False)"
   ]
  },
  {
   "cell_type": "code",
   "execution_count": 16,
   "metadata": {},
   "outputs": [
    {
     "data": {
      "text/html": [
       "<div>\n",
       "<style scoped>\n",
       "    .dataframe tbody tr th:only-of-type {\n",
       "        vertical-align: middle;\n",
       "    }\n",
       "\n",
       "    .dataframe tbody tr th {\n",
       "        vertical-align: top;\n",
       "    }\n",
       "\n",
       "    .dataframe thead th {\n",
       "        text-align: right;\n",
       "    }\n",
       "</style>\n",
       "<table border=\"1\" class=\"dataframe\">\n",
       "  <thead>\n",
       "    <tr style=\"text-align: right;\">\n",
       "      <th></th>\n",
       "      <th>tripduration</th>\n",
       "      <th>starttime</th>\n",
       "      <th>stoptime</th>\n",
       "      <th>start station id</th>\n",
       "      <th>start station name</th>\n",
       "      <th>start station latitude</th>\n",
       "      <th>start station longitude</th>\n",
       "      <th>end station id</th>\n",
       "      <th>end station name</th>\n",
       "      <th>end station latitude</th>\n",
       "      <th>end station longitude</th>\n",
       "      <th>bikeid</th>\n",
       "      <th>usertype</th>\n",
       "      <th>birth year</th>\n",
       "      <th>gender</th>\n",
       "    </tr>\n",
       "  </thead>\n",
       "  <tbody>\n",
       "    <tr>\n",
       "      <th>0</th>\n",
       "      <td>1188</td>\n",
       "      <td>2018-11-01 06:32:27.5190</td>\n",
       "      <td>2018-11-01 06:52:15.9140</td>\n",
       "      <td>3183</td>\n",
       "      <td>Exchange Place</td>\n",
       "      <td>40.716247</td>\n",
       "      <td>-74.033459</td>\n",
       "      <td>3199</td>\n",
       "      <td>Newport Pkwy</td>\n",
       "      <td>40.728745</td>\n",
       "      <td>-74.032108</td>\n",
       "      <td>33662</td>\n",
       "      <td>Customer</td>\n",
       "      <td>1969</td>\n",
       "      <td>0</td>\n",
       "    </tr>\n",
       "    <tr>\n",
       "      <th>1</th>\n",
       "      <td>278</td>\n",
       "      <td>2018-11-01 07:14:31.8680</td>\n",
       "      <td>2018-11-01 07:19:10.2610</td>\n",
       "      <td>3183</td>\n",
       "      <td>Exchange Place</td>\n",
       "      <td>40.716247</td>\n",
       "      <td>-74.033459</td>\n",
       "      <td>3202</td>\n",
       "      <td>Newport PATH</td>\n",
       "      <td>40.727224</td>\n",
       "      <td>-74.033759</td>\n",
       "      <td>29254</td>\n",
       "      <td>Subscriber</td>\n",
       "      <td>1963</td>\n",
       "      <td>1</td>\n",
       "    </tr>\n",
       "    <tr>\n",
       "      <th>2</th>\n",
       "      <td>115</td>\n",
       "      <td>2018-11-01 07:33:17.1920</td>\n",
       "      <td>2018-11-01 07:35:12.2830</td>\n",
       "      <td>3183</td>\n",
       "      <td>Exchange Place</td>\n",
       "      <td>40.716247</td>\n",
       "      <td>-74.033459</td>\n",
       "      <td>3184</td>\n",
       "      <td>Paulus Hook</td>\n",
       "      <td>40.714145</td>\n",
       "      <td>-74.033552</td>\n",
       "      <td>33607</td>\n",
       "      <td>Subscriber</td>\n",
       "      <td>1966</td>\n",
       "      <td>1</td>\n",
       "    </tr>\n",
       "    <tr>\n",
       "      <th>3</th>\n",
       "      <td>155</td>\n",
       "      <td>2018-11-01 08:20:10.9320</td>\n",
       "      <td>2018-11-01 08:22:46.7050</td>\n",
       "      <td>3183</td>\n",
       "      <td>Exchange Place</td>\n",
       "      <td>40.716247</td>\n",
       "      <td>-74.033459</td>\n",
       "      <td>3681</td>\n",
       "      <td>Grand St</td>\n",
       "      <td>40.715178</td>\n",
       "      <td>-74.037683</td>\n",
       "      <td>29222</td>\n",
       "      <td>Subscriber</td>\n",
       "      <td>1975</td>\n",
       "      <td>2</td>\n",
       "    </tr>\n",
       "    <tr>\n",
       "      <th>4</th>\n",
       "      <td>82</td>\n",
       "      <td>2018-11-01 08:35:02.7850</td>\n",
       "      <td>2018-11-01 08:36:25.1840</td>\n",
       "      <td>3183</td>\n",
       "      <td>Exchange Place</td>\n",
       "      <td>40.716247</td>\n",
       "      <td>-74.033459</td>\n",
       "      <td>3184</td>\n",
       "      <td>Paulus Hook</td>\n",
       "      <td>40.714145</td>\n",
       "      <td>-74.033552</td>\n",
       "      <td>29678</td>\n",
       "      <td>Subscriber</td>\n",
       "      <td>1975</td>\n",
       "      <td>1</td>\n",
       "    </tr>\n",
       "  </tbody>\n",
       "</table>\n",
       "</div>"
      ],
      "text/plain": [
       "   tripduration                 starttime                  stoptime  \\\n",
       "0          1188  2018-11-01 06:32:27.5190  2018-11-01 06:52:15.9140   \n",
       "1           278  2018-11-01 07:14:31.8680  2018-11-01 07:19:10.2610   \n",
       "2           115  2018-11-01 07:33:17.1920  2018-11-01 07:35:12.2830   \n",
       "3           155  2018-11-01 08:20:10.9320  2018-11-01 08:22:46.7050   \n",
       "4            82  2018-11-01 08:35:02.7850  2018-11-01 08:36:25.1840   \n",
       "\n",
       "   start station id start station name  start station latitude  \\\n",
       "0              3183     Exchange Place               40.716247   \n",
       "1              3183     Exchange Place               40.716247   \n",
       "2              3183     Exchange Place               40.716247   \n",
       "3              3183     Exchange Place               40.716247   \n",
       "4              3183     Exchange Place               40.716247   \n",
       "\n",
       "   start station longitude  end station id end station name  \\\n",
       "0               -74.033459            3199     Newport Pkwy   \n",
       "1               -74.033459            3202     Newport PATH   \n",
       "2               -74.033459            3184      Paulus Hook   \n",
       "3               -74.033459            3681         Grand St   \n",
       "4               -74.033459            3184      Paulus Hook   \n",
       "\n",
       "   end station latitude  end station longitude  bikeid    usertype  \\\n",
       "0             40.728745             -74.032108   33662    Customer   \n",
       "1             40.727224             -74.033759   29254  Subscriber   \n",
       "2             40.714145             -74.033552   33607  Subscriber   \n",
       "3             40.715178             -74.037683   29222  Subscriber   \n",
       "4             40.714145             -74.033552   29678  Subscriber   \n",
       "\n",
       "   birth year  gender  \n",
       "0        1969       0  \n",
       "1        1963       1  \n",
       "2        1966       1  \n",
       "3        1975       2  \n",
       "4        1975       1  "
      ]
     },
     "execution_count": 16,
     "metadata": {},
     "output_type": "execute_result"
    }
   ],
   "source": [
    "df.head(5)"
   ]
  },
  {
   "cell_type": "code",
   "execution_count": 17,
   "metadata": {},
   "outputs": [
    {
     "data": {
      "text/plain": [
       "0.0704493522644043"
      ]
     },
     "execution_count": 17,
     "metadata": {},
     "output_type": "execute_result"
    }
   ],
   "source": [
    "import time\n",
    "\n",
    "now = time.time()\n",
    "df = pd.read_csv('./data/JC-201811-citibike-tripdata.csv', low_memory=False)\n",
    "time.time() - now"
   ]
  },
  {
   "cell_type": "code",
   "execution_count": 18,
   "metadata": {},
   "outputs": [
    {
     "data": {
      "text/plain": [
       "Grove St PATH     3808\n",
       "Exchange Place    1546\n",
       "Sip Ave           1336\n",
       "Hamilton Park     1272\n",
       "Newport PATH      1037\n",
       "Name: end station name, dtype: int64"
      ]
     },
     "execution_count": 18,
     "metadata": {},
     "output_type": "execute_result"
    }
   ],
   "source": [
    "df['end station name'] \\\n",
    "  .value_counts() \\\n",
    "  .sort_values(ascending=False) \\\n",
    "  .head(5)\n"
   ]
  },
  {
   "cell_type": "code",
   "execution_count": 21,
   "metadata": {},
   "outputs": [
    {
     "data": {
      "text/plain": [
       "<matplotlib.axes._subplots.AxesSubplot at 0x7f1cb1ecd750>"
      ]
     },
     "execution_count": 21,
     "metadata": {},
     "output_type": "execute_result"
    },
    {
     "data": {
      "image/png": "[encoded data removed]",
      "text/plain": [
       "<Figure size 432x288 with 1 Axes>"
      ]
     },
     "metadata": {
      "needs_background": "light"
     },
     "output_type": "display_data"
    }
   ],
   "source": [
    "df['end station name'] \\\n",
    "  .value_counts() \\\n",
    "  .sort_values(ascending=False) \\\n",
    "  .head(5) \\\n",
    "  .plot \\\n",
    "  .bar()"
   ]
  },
  {
   "cell_type": "markdown",
   "metadata": {},
   "source": [
    "Spark"
   ]
  },
  {
   "cell_type": "code",
   "execution_count": 22,
   "metadata": {},
   "outputs": [],
   "source": [
    "from pyspark.sql import SparkSession\n",
    "# create sparksession\n",
    "spark = SparkSession \\\n",
    "    .builder \\\n",
    "    .appName(\"CitibikeAnalysis\") \\\n",
    "    .getOrCreate()"
   ]
  },
  {
   "cell_type": "code",
   "execution_count": 23,
   "metadata": {},
   "outputs": [],
   "source": [
    "df = spark.read.csv('./data/JC-201811-citibike-tripdata.csv', header='true', inferSchema = True)"
   ]
  },
  {
   "cell_type": "code",
   "execution_count": 24,
   "metadata": {},
   "outputs": [
    {
     "data": {
      "text/plain": [
       "['tripduration',\n",
       " 'starttime',\n",
       " 'stoptime',\n",
       " 'start station id',\n",
       " 'start station name',\n",
       " 'start station latitude',\n",
       " 'start station longitude',\n",
       " 'end station id',\n",
       " 'end station name',\n",
       " 'end station latitude',\n",
       " 'end station longitude',\n",
       " 'bikeid',\n",
       " 'usertype',\n",
       " 'birth year',\n",
       " 'gender']"
      ]
     },
     "execution_count": 24,
     "metadata": {},
     "output_type": "execute_result"
    }
   ],
   "source": [
    "df.columns"
   ]
  },
  {
   "cell_type": "code",
   "execution_count": 25,
   "metadata": {},
   "outputs": [
    {
     "name": "stdout",
     "output_type": "stream",
     "text": [
      "+------------+--------------------+--------------------+----------------+------------------+----------------------+-----------------------+--------------+----------------+--------------------+---------------------+------+----------+----------+------+\n",
      "|tripduration|           starttime|            stoptime|start station id|start station name|start station latitude|start station longitude|end station id|end station name|end station latitude|end station longitude|bikeid|  usertype|birth year|gender|\n",
      "+------------+--------------------+--------------------+----------------+------------------+----------------------+-----------------------+--------------+----------------+--------------------+---------------------+------+----------+----------+------+\n",
      "|        1188|2018-11-01 06:32:...|2018-11-01 06:52:...|            3183|    Exchange Place|            40.7162469|            -74.0334588|          3199|    Newport Pkwy|          40.7287448|          -74.0321082| 33662|  Customer|      1969|     0|\n",
      "|         278|2018-11-01 07:14:...|2018-11-01 07:19:...|            3183|    Exchange Place|            40.7162469|            -74.0334588|          3202|    Newport PATH|          40.7272235|          -74.0337589| 29254|Subscriber|      1963|     1|\n",
      "|         115|2018-11-01 07:33:...|2018-11-01 07:35:...|            3183|    Exchange Place|            40.7162469|            -74.0334588|          3184|     Paulus Hook|          40.7141454|          -74.0335519| 33607|Subscriber|      1966|     1|\n",
      "|         155|2018-11-01 08:20:...|2018-11-01 08:22:...|            3183|    Exchange Place|            40.7162469|            -74.0334588|          3681|        Grand St|   40.71517767732029|   -74.03768330812454| 29222|Subscriber|      1975|     2|\n",
      "|          82|2018-11-01 08:35:...|2018-11-01 08:36:...|            3183|    Exchange Place|            40.7162469|            -74.0334588|          3184|     Paulus Hook|          40.7141454|          -74.0335519| 29678|Subscriber|      1975|     1|\n",
      "+------------+--------------------+--------------------+----------------+------------------+----------------------+-----------------------+--------------+----------------+--------------------+---------------------+------+----------+----------+------+\n",
      "only showing top 5 rows\n",
      "\n"
     ]
    }
   ],
   "source": [
    "df.show(5)"
   ]
  },
  {
   "cell_type": "code",
   "execution_count": 26,
   "metadata": {},
   "outputs": [
    {
     "data": {
      "text/plain": [
       "[Row(tripduration=1188, starttime=datetime.datetime(2018, 11, 1, 6, 32, 27, 519000), stoptime=datetime.datetime(2018, 11, 1, 6, 52, 15, 914000), start station id=3183, start station name='Exchange Place', start station latitude=40.7162469, start station longitude=-74.0334588, end station id=3199, end station name='Newport Pkwy', end station latitude=40.7287448, end station longitude=-74.0321082, bikeid=33662, usertype='Customer', birth year=1969, gender=0),\n",
       " Row(tripduration=278, starttime=datetime.datetime(2018, 11, 1, 7, 14, 31, 868000), stoptime=datetime.datetime(2018, 11, 1, 7, 19, 10, 261000), start station id=3183, start station name='Exchange Place', start station latitude=40.7162469, start station longitude=-74.0334588, end station id=3202, end station name='Newport PATH', end station latitude=40.7272235, end station longitude=-74.0337589, bikeid=29254, usertype='Subscriber', birth year=1963, gender=1),\n",
       " Row(tripduration=115, starttime=datetime.datetime(2018, 11, 1, 7, 33, 17, 192000), stoptime=datetime.datetime(2018, 11, 1, 7, 35, 12, 283000), start station id=3183, start station name='Exchange Place', start station latitude=40.7162469, start station longitude=-74.0334588, end station id=3184, end station name='Paulus Hook', end station latitude=40.7141454, end station longitude=-74.0335519, bikeid=33607, usertype='Subscriber', birth year=1966, gender=1)]"
      ]
     },
     "execution_count": 26,
     "metadata": {},
     "output_type": "execute_result"
    }
   ],
   "source": [
    "df.head(3)"
   ]
  },
  {
   "cell_type": "code",
   "execution_count": 27,
   "metadata": {},
   "outputs": [
    {
     "name": "stdout",
     "output_type": "stream",
     "text": [
      "+----------------+\n",
      "|end station name|\n",
      "+----------------+\n",
      "|    Newport Pkwy|\n",
      "|    Newport PATH|\n",
      "|     Paulus Hook|\n",
      "|        Grand St|\n",
      "|     Paulus Hook|\n",
      "|   Washington St|\n",
      "|        Grand St|\n",
      "|Essex Light Rail|\n",
      "|   Grove St PATH|\n",
      "|  Van Vorst Park|\n",
      "+----------------+\n",
      "only showing top 10 rows\n",
      "\n"
     ]
    }
   ],
   "source": [
    "df.select('end station name').show(10)"
   ]
  },
  {
   "cell_type": "code",
   "execution_count": 28,
   "metadata": {},
   "outputs": [
    {
     "name": "stdout",
     "output_type": "stream",
     "text": [
      "+----------------+-----+\n",
      "|end station name|count|\n",
      "+----------------+-----+\n",
      "|   Grove St PATH| 3808|\n",
      "|  Exchange Place| 1546|\n",
      "|         Sip Ave| 1336|\n",
      "|   Hamilton Park| 1272|\n",
      "|    Newport PATH| 1037|\n",
      "+----------------+-----+\n",
      "only showing top 5 rows\n",
      "\n"
     ]
    }
   ],
   "source": [
    "df.groupBy('end station name').count().orderBy('count', ascending=False).show(5)"
   ]
  },
  {
   "cell_type": "code",
   "execution_count": 29,
   "metadata": {},
   "outputs": [
    {
     "data": {
      "text/plain": [
       "<matplotlib.axes._subplots.AxesSubplot at 0x7f1cb0f3ecd0>"
      ]
     },
     "execution_count": 29,
     "metadata": {},
     "output_type": "execute_result"
    },
    {
     "data": {
      "image/png": "[encoded data removed]",
      "text/plain": [
       "<Figure size 432x288 with 1 Axes>"
      ]
     },
     "metadata": {
      "needs_background": "light"
     },
     "output_type": "display_data"
    }
   ],
   "source": [
    "#convert to pandas:\n",
    "pdf = df.groupBy('end station name').count().orderBy('count', ascending=False).toPandas()\n",
    "pdf.head(5).plot.bar()"
   ]
  },
  {
   "cell_type": "markdown",
   "metadata": {},
   "source": [
    "Spark SQL Analysis"
   ]
  },
  {
   "cell_type": "code",
   "execution_count": 30,
   "metadata": {},
   "outputs": [
    {
     "name": "stdout",
     "output_type": "stream",
     "text": [
      "+----------------+\n",
      "|end station name|\n",
      "+----------------+\n",
      "|    Newport Pkwy|\n",
      "|    Newport PATH|\n",
      "|     Paulus Hook|\n",
      "|        Grand St|\n",
      "|     Paulus Hook|\n",
      "|   Washington St|\n",
      "|        Grand St|\n",
      "|Essex Light Rail|\n",
      "|   Grove St PATH|\n",
      "|  Van Vorst Park|\n",
      "+----------------+\n",
      "\n"
     ]
    }
   ],
   "source": [
    "df.createOrReplaceTempView('Citibike')\n",
    "spark.sql(\n",
    "'''\n",
    "SELECT `end station name` FROM Citibike\n",
    "LIMIT 10\n",
    "'''\n",
    ").show()"
   ]
  },
  {
   "cell_type": "code",
   "execution_count": 31,
   "metadata": {},
   "outputs": [
    {
     "name": "stdout",
     "output_type": "stream",
     "text": [
      "+----------------+---------------------+\n",
      "|end station name|most_popular_stations|\n",
      "+----------------+---------------------+\n",
      "|   Grove St PATH|                 3808|\n",
      "|  Exchange Place|                 1546|\n",
      "|         Sip Ave|                 1336|\n",
      "|   Hamilton Park|                 1272|\n",
      "|    Newport PATH|                 1037|\n",
      "+----------------+---------------------+\n",
      "\n"
     ]
    }
   ],
   "source": [
    "spark.sql(\n",
    "'''\n",
    "SELECT `end station name`, COUNT ( `end station name`) as most_popular_stations FROM Citibike\n",
    "GROUP BY `end station name`\n",
    "ORDER BY most_popular_stations DESC\n",
    "LIMIT 5\n",
    "'''\n",
    ").show()\n"
   ]
  },
  {
   "cell_type": "code",
   "execution_count": 32,
   "metadata": {},
   "outputs": [
    {
     "data": {
      "text/plain": [
       "<matplotlib.axes._subplots.AxesSubplot at 0x7f1cb16f4150>"
      ]
     },
     "execution_count": 32,
     "metadata": {},
     "output_type": "execute_result"
    },
    {
     "data": {
      "image/png": "[encoded data removed]",
      "text/plain": [
       "<Figure size 432x288 with 1 Axes>"
      ]
     },
     "metadata": {
      "needs_background": "light"
     },
     "output_type": "display_data"
    }
   ],
   "source": [
    "sqldf = spark.sql(\n",
    "'''\n",
    "SELECT `end station name`, COUNT ( `end station name`) as most_popular_stations FROM Citibike\n",
    "GROUP BY `end station name`\n",
    "ORDER BY most_popular_stations DESC\n",
    "LIMIT 5\n",
    "'''\n",
    ")\n",
    "\n",
    "sqldf.toPandas().plot.bar()"
   ]
  },
  {
   "cell_type": "code",
   "execution_count": null,
   "metadata": {},
   "outputs": [],
   "source": []
  }
 ],
 "metadata": {
  "kernelspec": {
   "display_name": "Python 3",
   "language": "python",
   "name": "python3"
  },
  "language_info": {
   "codemirror_mode": {
    "name": "ipython",
    "version": 3
   },
   "file_extension": ".py",
   "mimetype": "text/x-python",
   "name": "python",
   "nbconvert_exporter": "python",
   "pygments_lexer": "ipython3",
   "version": "3.7.6"
  }
 },
 "nbformat": 4,
 "nbformat_minor": 4
}
